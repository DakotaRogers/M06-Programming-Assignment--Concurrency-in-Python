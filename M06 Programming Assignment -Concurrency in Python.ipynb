{
 "cells": [
  {
   "cell_type": "markdown",
   "id": "791172ed",
   "metadata": {},
   "source": [
    "# 13.1"
   ]
  },
  {
   "cell_type": "code",
   "execution_count": 3,
   "id": "e8c2cbad",
   "metadata": {},
   "outputs": [
    {
     "name": "stdout",
     "output_type": "stream",
     "text": [
      "2022-07-19\n"
     ]
    }
   ],
   "source": [
    "#import date\n",
    "from datetime import date\n",
    "#make the variable now into today's date\n",
    "now = date.today()\n",
    "#make a string that will format by year day month \n",
    "now_str = now.isoformat()\n",
    "#open it as a text file and print the output\n",
    "with open('today.txt', 'wt') as output:\n",
    "    print(now_str)\n",
    "\n"
   ]
  },
  {
   "cell_type": "markdown",
   "id": "89a26739",
   "metadata": {},
   "source": [
    "# 13.2\n"
   ]
  },
  {
   "cell_type": "code",
   "execution_count": 4,
   "id": "67b5d396",
   "metadata": {},
   "outputs": [
    {
     "data": {
      "text/plain": [
       "''"
      ]
     },
     "execution_count": 4,
     "metadata": {},
     "output_type": "execute_result"
    }
   ],
   "source": [
    "#open today.txt as a read file(rt) and make it an input\n",
    "with open('today.txt', 'rt') as input:\n",
    "    #make new variable called today_string and make it equal to input, then read the file with .read\n",
    "    today_string = input.read()\n",
    "#print the date    \n",
    "today_string\n",
    "#I don't think it wants to read today.txt from 13.1 "
   ]
  },
  {
   "cell_type": "markdown",
   "id": "e376f190",
   "metadata": {},
   "source": [
    "# 13.3 \n"
   ]
  },
  {
   "cell_type": "code",
   "execution_count": 6,
   "id": "a4d0e1fd",
   "metadata": {},
   "outputs": [
    {
     "ename": "NameError",
     "evalue": "name 'datetime' is not defined",
     "output_type": "error",
     "traceback": [
      "\u001b[1;31m---------------------------------------------------------------------------\u001b[0m",
      "\u001b[1;31mNameError\u001b[0m                                 Traceback (most recent call last)",
      "Input \u001b[1;32mIn [6]\u001b[0m, in \u001b[0;36m<cell line: 4>\u001b[1;34m()\u001b[0m\n\u001b[0;32m      2\u001b[0m fmt \u001b[38;5;241m=\u001b[39m \u001b[38;5;124m'\u001b[39m\u001b[38;5;124m%\u001b[39m\u001b[38;5;124mY-\u001b[39m\u001b[38;5;124m%\u001b[39m\u001b[38;5;124mm-\u001b[39m\u001b[38;5;132;01m%d\u001b[39;00m\u001b[38;5;130;01m\\n\u001b[39;00m\u001b[38;5;124m'\u001b[39m\n\u001b[0;32m      3\u001b[0m \u001b[38;5;66;03m#use strptime to convert a string to time\u001b[39;00m\n\u001b[1;32m----> 4\u001b[0m \u001b[43mdatetime\u001b[49m\u001b[38;5;241m.\u001b[39mstrptime(today_string, fmt)\n",
      "\u001b[1;31mNameError\u001b[0m: name 'datetime' is not defined"
     ]
    }
   ],
   "source": [
    "#arrange the format\n",
    "fmt = '%Y-%m-%d'\n",
    "#use strptime to convert a string to time\n",
    "datetime.strptime(today_string, fmt)\n",
    "\n",
    "#datetime was specified in 13.1 but not translating to 13.3"
   ]
  },
  {
   "cell_type": "markdown",
   "id": "58474903",
   "metadata": {},
   "source": [
    "# 15.1"
   ]
  },
  {
   "cell_type": "code",
   "execution_count": 11,
   "id": "8f37f211",
   "metadata": {},
   "outputs": [],
   "source": [
    "import multiprocessing\n",
    "\n",
    "#define a function\n",
    "def now(seconds):\n",
    "   #import date time and time\n",
    "    from datetime import datetime\n",
    "    from time import sleep\n",
    "    #tell when to sleep\n",
    "    sleep(seconds)\n",
    "    #make a print statement telling how long to wait and thecurrent time in central time zone\n",
    "    print('wait', seconds, 'secdons, time is', datetime. cstnow())\n",
    "    \n",
    "if __name__ == '__main__':\n",
    "    #import random number \n",
    "    import random \n",
    "    #make a for loop for 3 numbers\n",
    "    for n in range(3):\n",
    "        #make seconds = a random number\n",
    "        seconds = random.random()\n",
    "        #make a process that utilizes multiple processes including the function 'now(seconds)' \n",
    "        proc= multiprocessing.Process(target=now, args=(seconds,))\n",
    "        #run the processes\n",
    "        proc.start()"
   ]
  },
  {
   "cell_type": "code",
   "execution_count": null,
   "id": "658e489c",
   "metadata": {},
   "outputs": [],
   "source": []
  },
  {
   "cell_type": "code",
   "execution_count": null,
   "id": "2dd8b12c",
   "metadata": {},
   "outputs": [],
   "source": []
  }
 ],
 "metadata": {
  "kernelspec": {
   "display_name": "Python 3 (ipykernel)",
   "language": "python",
   "name": "python3"
  },
  "language_info": {
   "codemirror_mode": {
    "name": "ipython",
    "version": 3
   },
   "file_extension": ".py",
   "mimetype": "text/x-python",
   "name": "python",
   "nbconvert_exporter": "python",
   "pygments_lexer": "ipython3",
   "version": "3.9.12"
  }
 },
 "nbformat": 4,
 "nbformat_minor": 5
}
